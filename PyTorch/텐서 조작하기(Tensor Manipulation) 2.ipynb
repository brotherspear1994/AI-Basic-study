{
  "nbformat": 4,
  "nbformat_minor": 0,
  "metadata": {
    "colab": {
      "name": "Untitled1.ipynb",
      "provenance": []
    },
    "kernelspec": {
      "name": "python3",
      "display_name": "Python 3"
    }
  },
  "cells": [
    {
      "cell_type": "markdown",
      "metadata": {
        "id": "BUXPS55y086k"
      },
      "source": [
        "**텐서 조작하기(Tensor Manipulation) 2**"
      ]
    },
    {
      "cell_type": "markdown",
      "metadata": {
        "id": "abspZZKh0_hq"
      },
      "source": [
        "**뷰(View) - 원소의 수를 유지하면서 텐서의 크기 변경. 매우 중요함!!**"
      ]
    },
    {
      "cell_type": "code",
      "metadata": {
        "colab": {
          "base_uri": "https://localhost:8080/"
        },
        "id": "foTK8s4esTOQ",
        "outputId": "c56ae754-66e7-444f-fa1c-9ef5698fadb3"
      },
      "source": [
        "import numpy as np\r\n",
        "import torch\r\n",
        "t = np.array([[[0, 1, 2],\r\n",
        "               [3, 4, 5]],\r\n",
        "              [[6, 7, 8],\r\n",
        "               [9, 10, 11]]])\r\n",
        "ft = torch.FloatTensor(t)\r\n",
        "\r\n",
        "print(ft.shape)"
      ],
      "execution_count": 4,
      "outputs": [
        {
          "output_type": "stream",
          "text": [
            "torch.Size([2, 2, 3])\n"
          ],
          "name": "stdout"
        }
      ]
    },
    {
      "cell_type": "markdown",
      "metadata": {
        "id": "Q3vdh4N84s-W"
      },
      "source": [
        "**3차원 텐서에서 2차원 텐서로 변경**"
      ]
    },
    {
      "cell_type": "code",
      "metadata": {
        "colab": {
          "base_uri": "https://localhost:8080/"
        },
        "id": "NcXgRiaS4ttH",
        "outputId": "0367e5e6-7a24-43b7-9035-6688ec73803b"
      },
      "source": [
        "print(ft.view([-1, 3])) # ft라는 텐서를 (?, 3)의 크기로 변경\r\n",
        "print(ft.view([-1, 3]).shape)"
      ],
      "execution_count": 5,
      "outputs": [
        {
          "output_type": "stream",
          "text": [
            "tensor([[ 0.,  1.,  2.],\n",
            "        [ 3.,  4.,  5.],\n",
            "        [ 6.,  7.,  8.],\n",
            "        [ 9., 10., 11.]])\n",
            "torch.Size([4, 3])\n"
          ],
          "name": "stdout"
        }
      ]
    },
    {
      "cell_type": "markdown",
      "metadata": {
        "id": "JDydUWp341QK"
      },
      "source": [
        "view([-1, 3])이 가지는 의미는 이와 같습니다. -1은 첫번째 차원은 사용자가 잘 모르겠으니 파이토치에 맡기겠다는 의미이고, 3은 두번째 차원의 길이는 3을 가지도록 하라는 의미입니다. 다시 말해 현재 3차원 텐서를 2차원 텐서로 변경하되 (?, 3)의 크기로 변경하라는 의미입니다. 결과적으로 (4, 3)의 크기를 가지는 텐서를 얻었습니다.\r\n",
        "\r\n",
        "- view는 기본적으로 변경 전과 변경 후의 텐서 안의 원소의 개수가 유지되어야 합니다.\r\n",
        "- 파이토치의 view는 사이즈가 -1로 설정되면 다른 차원으로부터 해당 값을 유추합니다."
      ]
    },
    {
      "cell_type": "markdown",
      "metadata": {
        "id": "x_1Sb6bi5L_j"
      },
      "source": [
        "**3차원 텐서의 크기 변경**"
      ]
    },
    {
      "cell_type": "markdown",
      "metadata": {
        "id": "ZotxHffp5uX4"
      },
      "source": [
        "이번에는 3차원 텐서에서 3차원 텐서로 차원은 유지하되, 크기(shape)를 바꾸는 작업을 해보겠습니다. view로 텐서의 크기를 변경하더라도 원소의 수는 유지되어야 한다고 언급한 바 있습니다. 그렇다면 (2 × 2 × 3) 텐서를 (? × 1 × 3) 텐서로 변경하라고 하면 ?는 몇 차원인가요?\r\n",
        "\r\n",
        "(2 × 2 × 3) = (? × 1 × 3) = 12를 만족해야 하므로 ?는 4가 됩니다. 이를 실습으로 확인해봅시다."
      ]
    },
    {
      "cell_type": "code",
      "metadata": {
        "colab": {
          "base_uri": "https://localhost:8080/"
        },
        "id": "NbhdZbQW5OXb",
        "outputId": "f8bc8ebb-4316-46f0-fd5b-57cd65bdcfa3"
      },
      "source": [
        "print(ft.view([-1, 1, 3]))\r\n",
        "print(ft.view([-1, 1, 3]).shape)"
      ],
      "execution_count": 6,
      "outputs": [
        {
          "output_type": "stream",
          "text": [
            "tensor([[[ 0.,  1.,  2.]],\n",
            "\n",
            "        [[ 3.,  4.,  5.]],\n",
            "\n",
            "        [[ 6.,  7.,  8.]],\n",
            "\n",
            "        [[ 9., 10., 11.]]])\n",
            "torch.Size([4, 1, 3])\n"
          ],
          "name": "stdout"
        }
      ]
    },
    {
      "cell_type": "markdown",
      "metadata": {
        "id": "7jUsJyRO57Qr"
      },
      "source": [
        "**스퀴즈(Squeeze) - 1인 차원을 제거한다.**"
      ]
    },
    {
      "cell_type": "code",
      "metadata": {
        "colab": {
          "base_uri": "https://localhost:8080/"
        },
        "id": "CoGZsrPM6JIh",
        "outputId": "154c9b13-e7a1-491b-e8d1-8f6426d52fe8"
      },
      "source": [
        "ft = torch.FloatTensor([[0], [1], [2]])\r\n",
        "print(ft)\r\n",
        "print(ft.shape)"
      ],
      "execution_count": 7,
      "outputs": [
        {
          "output_type": "stream",
          "text": [
            "tensor([[0.],\n",
            "        [1.],\n",
            "        [2.]])\n",
            "torch.Size([3, 1])\n"
          ],
          "name": "stdout"
        }
      ]
    },
    {
      "cell_type": "markdown",
      "metadata": {
        "id": "_Om9O9j96vSR"
      },
      "source": [
        "해당 텐서는 (3 × 1)의 크기를 가집니다. 두번째 차원이 1이므로 squeeze를 사용하면 (3,)의 크기를 가지는 텐서로 변경됩니다."
      ]
    },
    {
      "cell_type": "code",
      "metadata": {
        "colab": {
          "base_uri": "https://localhost:8080/"
        },
        "id": "PIWhJ5fZ63Q_",
        "outputId": "2d18adaa-ec5b-433d-f876-73acd4abd219"
      },
      "source": [
        "print(ft.squeeze())\r\n",
        "print(ft.squeeze().shape)"
      ],
      "execution_count": 9,
      "outputs": [
        {
          "output_type": "stream",
          "text": [
            "tensor([0., 1., 2.])\n",
            "torch.Size([3])\n"
          ],
          "name": "stdout"
        }
      ]
    },
    {
      "cell_type": "markdown",
      "metadata": {
        "id": "OPKvZEOC64uv"
      },
      "source": [
        "위의 결과는 1이었던 두번째 차원이 제거되면서 (3,)의 크기를 가지는 텐서로 변경되어 1차원 벡터가 된 것을 보여줍니다."
      ]
    },
    {
      "cell_type": "markdown",
      "metadata": {
        "id": "cNXGYpYW7Ga1"
      },
      "source": [
        "**언스퀴즈(Unsqueeze) - 특정 위치에 1인 차원을 추가한다.**"
      ]
    },
    {
      "cell_type": "markdown",
      "metadata": {
        "id": "z303cH1U7I-d"
      },
      "source": [
        "언스퀴즈는 스퀴즈와 정반대입니다. 특정 위치에 1인 차원을 추가할 수 있습니다.\r\n",
        "실습을 위해 임의로 (3,)의 크기를 가지는 1인 차원 텐서를 만들겠습니다."
      ]
    },
    {
      "cell_type": "code",
      "metadata": {
        "colab": {
          "base_uri": "https://localhost:8080/"
        },
        "id": "N1i0caVZ7G4K",
        "outputId": "82fe2361-54de-4060-faa3-be2a639e431a"
      },
      "source": [
        "ft = torch.Tensor([0, 1, 2])\r\n",
        "print(ft.shape)"
      ],
      "execution_count": 10,
      "outputs": [
        {
          "output_type": "stream",
          "text": [
            "torch.Size([3])\n"
          ],
          "name": "stdout"
        }
      ]
    },
    {
      "cell_type": "markdown",
      "metadata": {
        "id": "6PGXmDLD7WST"
      },
      "source": [
        "현재는 차원이 1개인 1차원 벡터입니다. 여기에 첫번째 차원에 1인 차원을 추가해보겠습니다. 첫번째 차원의 인덱스를 의미하는 숫자 0을 인자로 넣으면 첫번째 차원에 1인 차원이 추가됩니다."
      ]
    },
    {
      "cell_type": "code",
      "metadata": {
        "colab": {
          "base_uri": "https://localhost:8080/"
        },
        "id": "vUeOVsBt7W3b",
        "outputId": "2c307c5b-9c41-436a-eebe-b84ec69e37e0"
      },
      "source": [
        "print(ft.unsqueeze(0)) # 인덱스가 0부터 시작하므로 0은 첫번째 차원을 의미한다.\r\n",
        "print(ft.unsqueeze(0).shape)"
      ],
      "execution_count": 11,
      "outputs": [
        {
          "output_type": "stream",
          "text": [
            "tensor([[0., 1., 2.]])\n",
            "torch.Size([1, 3])\n"
          ],
          "name": "stdout"
        }
      ]
    },
    {
      "cell_type": "markdown",
      "metadata": {
        "id": "iNPg4FJd7rYp"
      },
      "source": [
        "위 결과는 (3,)의 크기를 가졌던 1차원 벡터가 (1, 3)의 2차원 텐서로 변경된 것을 보여줍니다. 방금 한 연산을 앞서 배운 view로도 구현 가능합니다. 2차원으로 바꾸고 싶으면서 첫번째 차원은 1이기를 원한다면 view에서 (1, -1)을 인자로 사용하면됩니다."
      ]
    },
    {
      "cell_type": "code",
      "metadata": {
        "colab": {
          "base_uri": "https://localhost:8080/"
        },
        "id": "VYjXV73F70dd",
        "outputId": "dea61031-d170-469a-a54f-f3589391f98c"
      },
      "source": [
        "print(ft.view(1, -1))\r\n",
        "print(ft.view(1, -1).shape)"
      ],
      "execution_count": 14,
      "outputs": [
        {
          "output_type": "stream",
          "text": [
            "tensor([[0., 1., 2.]])\n",
            "torch.Size([1, 3])\n"
          ],
          "name": "stdout"
        }
      ]
    },
    {
      "cell_type": "markdown",
      "metadata": {
        "id": "HEV_ZLjR_Ag6"
      },
      "source": [
        "이번에는 unsqueeze의 인자로 1을 넣어보겠습니다. 인덱스는 0부터 시작하므로 이는 두번째 차원에 1을 추가하겠다는 것을 의미합니다. 현재 크기는 (3,)이었으므로 두번째 차원에 1인 차원을 추가하면 (3, 1)의 크기를 가지게 됩니다. 실습을 진행해보겠습니다."
      ]
    },
    {
      "cell_type": "code",
      "metadata": {
        "colab": {
          "base_uri": "https://localhost:8080/"
        },
        "id": "BT15uFSn_BNN",
        "outputId": "5372826d-e9b6-4522-f6db-78db8bed350b"
      },
      "source": [
        "print(ft.unsqueeze(1))\r\n",
        "print(ft.unsqueeze(1).shape)"
      ],
      "execution_count": 15,
      "outputs": [
        {
          "output_type": "stream",
          "text": [
            "tensor([[0.],\n",
            "        [1.],\n",
            "        [2.]])\n",
            "torch.Size([3, 1])\n"
          ],
          "name": "stdout"
        }
      ]
    },
    {
      "cell_type": "markdown",
      "metadata": {
        "id": "OscY0YhK_Ial"
      },
      "source": [
        "이번에는 unsqueeze의 인자로 -1을 넣어보겠습니다. -1은 인덱스 상으로 마지막 차원을 의미합니다. 현재 크기는 (3,)이었으므로 마지막 차원에 1인 차원을 추가하면 (3, 1)의 크기를 가지게 됩니다. 다시 말해 현재 텐서의 경우에는 1을 넣은 경우와 -1을 넣은 경우가 결과가 동일합니다. 실습을 진행해보겠습니다."
      ]
    },
    {
      "cell_type": "code",
      "metadata": {
        "colab": {
          "base_uri": "https://localhost:8080/"
        },
        "id": "DqidARZI_IzT",
        "outputId": "50394977-631e-4be3-8a36-0877cfd8bb5c"
      },
      "source": [
        "print(ft.unsqueeze(-1))\r\n",
        "print(ft.unsqueeze(-1).shape)"
      ],
      "execution_count": 16,
      "outputs": [
        {
          "output_type": "stream",
          "text": [
            "tensor([[0.],\n",
            "        [1.],\n",
            "        [2.]])\n",
            "torch.Size([3, 1])\n"
          ],
          "name": "stdout"
        }
      ]
    },
    {
      "cell_type": "markdown",
      "metadata": {
        "id": "qv35qvGa_3DL"
      },
      "source": [
        "- view(), squeeze(), unsqueeze()는 텐서의 원소 수를 그대로 유지하면서 모양과 차원을 조절합니다."
      ]
    },
    {
      "cell_type": "markdown",
      "metadata": {
        "id": "iO2hvuDb_46W"
      },
      "source": [
        "**타입 캐스팅(Type Casting)**"
      ]
    },
    {
      "cell_type": "markdown",
      "metadata": {
        "id": "e9PN1VNJAexe"
      },
      "source": [
        "텐서에는 자료형이라는 것이 있습니다. 각 데이터형별로 정의되어져 있는데, 예를 들어 32비트의 유동 소수점은 torch.FloatTensor를, 64비트의 부호 있는 정수는 torch.LongTensor를 사용합니다. GPU 연산을 위한 자료형도 있습니다. 예를 들어 torch.cuda.FloatTensor가 그 예입니다.\r\n",
        "\r\n",
        "그리고 이 자료형을 변환하는 것을 타입 캐스팅이라고 합니다.\r\n",
        "\r\n",
        "우선 실습을 위해 long 타입의 lt라는 텐서를 선언합니다."
      ]
    },
    {
      "cell_type": "code",
      "metadata": {
        "colab": {
          "base_uri": "https://localhost:8080/"
        },
        "id": "zYDG4KljAfxz",
        "outputId": "a224a8d4-4cea-4ccd-d640-1c0e76fbe916"
      },
      "source": [
        "lt = torch.LongTensor([1, 2, 3, 4])\r\n",
        "print(lt)"
      ],
      "execution_count": 17,
      "outputs": [
        {
          "output_type": "stream",
          "text": [
            "tensor([1, 2, 3, 4])\n"
          ],
          "name": "stdout"
        }
      ]
    },
    {
      "cell_type": "markdown",
      "metadata": {
        "id": "AzJBoihHAlL3"
      },
      "source": [
        "텐서에다가 .float()를 붙이면 바로 float형으로 타입이 변경됩니다."
      ]
    },
    {
      "cell_type": "code",
      "metadata": {
        "colab": {
          "base_uri": "https://localhost:8080/"
        },
        "id": "drjQMuxjAmvP",
        "outputId": "7fc0a179-d6bf-4f8d-b7e0-0df2b7ac33dd"
      },
      "source": [
        "print(lt.float())"
      ],
      "execution_count": 18,
      "outputs": [
        {
          "output_type": "stream",
          "text": [
            "tensor([1., 2., 3., 4.])\n"
          ],
          "name": "stdout"
        }
      ]
    },
    {
      "cell_type": "markdown",
      "metadata": {
        "id": "LvTjYQ5gAp_1"
      },
      "source": [
        "이번에는 Byte 타입의 bt라는 텐서를 만들어보겠습니다."
      ]
    },
    {
      "cell_type": "code",
      "metadata": {
        "colab": {
          "base_uri": "https://localhost:8080/"
        },
        "id": "TqbF8I4yAqWA",
        "outputId": "cbff8b43-ec53-44cc-b053-8493d4d68ca2"
      },
      "source": [
        "bt = torch.ByteTensor([True, False, False, True])\r\n",
        "print(bt)"
      ],
      "execution_count": 19,
      "outputs": [
        {
          "output_type": "stream",
          "text": [
            "tensor([1, 0, 0, 1], dtype=torch.uint8)\n"
          ],
          "name": "stdout"
        }
      ]
    },
    {
      "cell_type": "markdown",
      "metadata": {
        "id": "3MIBUvWiAu6t"
      },
      "source": [
        "여기에 .long()이라고하면 long 타입의 텐서로 변경되고 .float()이라고 하면 float 타입의 텐서로 변경됩니다."
      ]
    },
    {
      "cell_type": "code",
      "metadata": {
        "colab": {
          "base_uri": "https://localhost:8080/"
        },
        "id": "sXdD71QDAw4s",
        "outputId": "f2297a42-db09-46e1-dff7-554159f8e2f5"
      },
      "source": [
        "print(bt.long())\r\n",
        "print(bt.float())"
      ],
      "execution_count": 20,
      "outputs": [
        {
          "output_type": "stream",
          "text": [
            "tensor([1, 0, 0, 1])\n",
            "tensor([1., 0., 0., 1.])\n"
          ],
          "name": "stdout"
        }
      ]
    },
    {
      "cell_type": "markdown",
      "metadata": {
        "id": "oTCzcCqDAzon"
      },
      "source": [
        "**연결하기(concatenate)**"
      ]
    },
    {
      "cell_type": "markdown",
      "metadata": {
        "id": "2vR9Tz3hA2rA"
      },
      "source": [
        "이번에는 두 텐서를 연결하는 방법에 대해서 알아보겠습니다.\r\n",
        "우선 (2 × 2) 크기의 텐서를 두 개 만듭니다."
      ]
    },
    {
      "cell_type": "code",
      "metadata": {
        "id": "JFnvZcvdA1Ze"
      },
      "source": [
        "x = torch.FloatTensor([[1, 2], [3, 4]])\r\n",
        "y = torch.FloatTensor([[5, 6], [7, 8]])"
      ],
      "execution_count": 21,
      "outputs": []
    },
    {
      "cell_type": "markdown",
      "metadata": {
        "id": "wKjwTQWgCyd6"
      },
      "source": [
        "이제 두 텐서를 torch.cat([ ])를 통해 연결해보겠습니다. 그런데 연결 방법은 한 가지만 있는 것이 아닙니다. torch.cat은 어느 차원을 늘릴 것인지를 인자로 줄 수 있습니다. 예를 들어 dim=0은 첫번째 차원을 늘리라는 의미를 담고있습니다."
      ]
    },
    {
      "cell_type": "code",
      "metadata": {
        "colab": {
          "base_uri": "https://localhost:8080/"
        },
        "id": "lrcZmKCCCzbj",
        "outputId": "eca8ca27-9274-442e-9ab3-253f47d7d07c"
      },
      "source": [
        "test = (torch.cat([x, y], dim=0))\r\n",
        "print(torch.cat([x, y], dim=0))\r\n",
        "print(test.size())"
      ],
      "execution_count": 22,
      "outputs": [
        {
          "output_type": "stream",
          "text": [
            "tensor([[1., 2.],\n",
            "        [3., 4.],\n",
            "        [5., 6.],\n",
            "        [7., 8.]])\n",
            "torch.Size([4, 2])\n"
          ],
          "name": "stdout"
        }
      ]
    },
    {
      "cell_type": "markdown",
      "metadata": {
        "id": "DaIdA5A-DJfR"
      },
      "source": [
        "dim=0을 인자로 했더니 두 개의 (2 × 2) 텐서가 (4 × 2) 텐서가 된 것을 볼 수 있습니다. 이번에는 dim=1을 인자로 주겠습니다."
      ]
    },
    {
      "cell_type": "code",
      "metadata": {
        "colab": {
          "base_uri": "https://localhost:8080/"
        },
        "id": "f_vimI78DKKt",
        "outputId": "f19a4dbb-61d5-4d10-d286-603a508452c6"
      },
      "source": [
        "print(torch.cat([x, y], dim=1))"
      ],
      "execution_count": 23,
      "outputs": [
        {
          "output_type": "stream",
          "text": [
            "tensor([[1., 2., 5., 6.],\n",
            "        [3., 4., 7., 8.]])\n"
          ],
          "name": "stdout"
        }
      ]
    },
    {
      "cell_type": "markdown",
      "metadata": {
        "id": "OdtpbZkVDWZy"
      },
      "source": [
        "dim=1을 인자로 했더니 두 개의 (2 × 2) 텐서가 (2 × 4) 텐서가 된 것을 볼 수 있습니다.\r\n",
        "- 딥 러닝에서는 주로 모델의 입력 또는 중간 연산에서 두 개의 텐서를 연결하는 경우가 많습니다. 두 텐서를 연결해서 입력으로 사용하는 것은 두 가지의 정보를 모두 사용한다는 의미를 가지고 있습니다."
      ]
    },
    {
      "cell_type": "markdown",
      "metadata": {
        "id": "Ka_FJ0raDZhO"
      },
      "source": [
        "**스택킹(Stacking)**"
      ]
    },
    {
      "cell_type": "markdown",
      "metadata": {
        "id": "5ZSIvN3qDbJZ"
      },
      "source": [
        "연결(concatenate)을 하는 또 다른 방법으로 스택킹(Stacking)이 있습니다. 스택킹은 영어로 쌓는다는 의미입니다. 때로는 연결을 하는 것보다 스택킹이 더 편리할 때가 있는데, 이는 스택킹이 많은 연산을 포함하고 있기 때문입니다.\r\n",
        "\r\n",
        "실습을 위해 크기가 (2,)로 모두 동일한 3개의 벡터를 만듭니다."
      ]
    },
    {
      "cell_type": "code",
      "metadata": {
        "id": "zS__NshuDio3"
      },
      "source": [
        "x = torch.FloatTensor([1, 4])\r\n",
        "y = torch.FloatTensor([2, 5])\r\n",
        "z = torch.FloatTensor([3, 6])"
      ],
      "execution_count": 24,
      "outputs": []
    },
    {
      "cell_type": "code",
      "metadata": {
        "colab": {
          "base_uri": "https://localhost:8080/"
        },
        "id": "TeQXgwQjDoai",
        "outputId": "38758d93-5dab-425a-9624-ae21cb186ca3"
      },
      "source": [
        "print(torch.stack([x, y, z]))"
      ],
      "execution_count": 25,
      "outputs": [
        {
          "output_type": "stream",
          "text": [
            "tensor([[1., 4.],\n",
            "        [2., 5.],\n",
            "        [3., 6.]])\n"
          ],
          "name": "stdout"
        }
      ]
    },
    {
      "cell_type": "markdown",
      "metadata": {
        "id": "GxzHrZWyDpAU"
      },
      "source": [
        "위 결과는 3개의 벡터가 순차적으로 쌓여 (3 × 2) 텐서가 된 것을 보여줍니다.\r\n",
        "\r\n",
        "스택킹은 사실 많은 연산을 한 번에 축약하고 있습니다. 예를 들어 위 작업은 아래의 코드와 동일한 작업입니다."
      ]
    },
    {
      "cell_type": "code",
      "metadata": {
        "colab": {
          "base_uri": "https://localhost:8080/"
        },
        "id": "hofVAsLXELbB",
        "outputId": "e2093da1-9a79-4fb3-8000-164142b94440"
      },
      "source": [
        "print(torch.cat([x.unsqueeze(0), y.unsqueeze(0), z.unsqueeze(0)], dim=0))"
      ],
      "execution_count": 26,
      "outputs": [
        {
          "output_type": "stream",
          "text": [
            "tensor([[1., 4.],\n",
            "        [2., 5.],\n",
            "        [3., 6.]])\n"
          ],
          "name": "stdout"
        }
      ]
    },
    {
      "cell_type": "markdown",
      "metadata": {
        "id": "LJgNgIg3ENhk"
      },
      "source": [
        "x, y, z는 기존에는 전부 (2,)의 크기를 가졌습니다. 그런데 .unsqueeze(0)을 하므로서 3개의 벡터는 전부 (1, 2)의 크기의 2차원 텐서로 변경됩니다. 여기에 연결(concatenate)를 의미하는 cat을 사용하면 (3 x 2) 텐서가 됩니다."
      ]
    },
    {
      "cell_type": "markdown",
      "metadata": {
        "id": "CcOFmWeDFg81"
      },
      "source": [
        "스택킹에 추가적으로 dim을 인자로 줄 수도 있습니다. 이번에는 dim=1 인자를 주겠습니다.\r\n",
        "이는 두번째 차원이 증가하도록 쌓으라는 의미로 해석할 수 있습니다."
      ]
    },
    {
      "cell_type": "code",
      "metadata": {
        "colab": {
          "base_uri": "https://localhost:8080/"
        },
        "id": "NOU_5GxyFh-G",
        "outputId": "3be57cae-e7d4-4c7f-9cea-4f4700cb0740"
      },
      "source": [
        "print(torch.stack([x, y, z], dim=1))"
      ],
      "execution_count": 27,
      "outputs": [
        {
          "output_type": "stream",
          "text": [
            "tensor([[1., 2., 3.],\n",
            "        [4., 5., 6.]])\n"
          ],
          "name": "stdout"
        }
      ]
    },
    {
      "cell_type": "markdown",
      "metadata": {
        "id": "Bah_CcngFk3Q"
      },
      "source": [
        "위의 결과는 두번째 차원이 증가하도록 스택킹이 된 결과를 보여줍니다.\r\n",
        "결과적으로 (2 × 3) 텐서가 됩니다.\r\n",
        "\r\n"
      ]
    },
    {
      "cell_type": "markdown",
      "metadata": {
        "id": "fFdchY2XFmoY"
      },
      "source": [
        "**ones_like와 zeros_like - 0으로 채워진 텐서와 1로 채워진 텐서**"
      ]
    },
    {
      "cell_type": "markdown",
      "metadata": {
        "id": "3pu0eTQoFr46"
      },
      "source": [
        "실습을 위해 (2 × 3) 텐서를 만듭니다."
      ]
    },
    {
      "cell_type": "code",
      "metadata": {
        "colab": {
          "base_uri": "https://localhost:8080/"
        },
        "id": "k7IOxbAmFq34",
        "outputId": "1677d2f8-c53c-4936-df9f-b2e73209eaf4"
      },
      "source": [
        "x = torch.FloatTensor([[0, 1, 2], [2, 1, 0]])\r\n",
        "print(x)"
      ],
      "execution_count": 28,
      "outputs": [
        {
          "output_type": "stream",
          "text": [
            "tensor([[0., 1., 2.],\n",
            "        [2., 1., 0.]])\n"
          ],
          "name": "stdout"
        }
      ]
    },
    {
      "cell_type": "markdown",
      "metadata": {
        "id": "nslc5_Q5F6Xi"
      },
      "source": [
        "위 텐서에 ones_like를 하면 동일한 크기(shape)지만 1으로만 값이 채워진 텐서를 생성합니다."
      ]
    },
    {
      "cell_type": "code",
      "metadata": {
        "colab": {
          "base_uri": "https://localhost:8080/"
        },
        "id": "Jk4eKgn7GMcG",
        "outputId": "3c8bb1cf-2f12-491d-a4a7-2a34ae5b8d27"
      },
      "source": [
        "print(torch.ones_like(x)) # 입력 텐서와 크기를 동일하게 하면서 값을 1로 채우기"
      ],
      "execution_count": 29,
      "outputs": [
        {
          "output_type": "stream",
          "text": [
            "tensor([[1., 1., 1.],\n",
            "        [1., 1., 1.]])\n"
          ],
          "name": "stdout"
        }
      ]
    },
    {
      "cell_type": "code",
      "metadata": {
        "colab": {
          "base_uri": "https://localhost:8080/"
        },
        "id": "nL3hRlLKGO2S",
        "outputId": "1d0b2005-e2ce-4321-a37e-3bb6512d3a1e"
      },
      "source": [
        "print(torch.zeros_like(x)) # 입력 텐서와 크기를 동일하게 하면서 값을 0으로 채우기"
      ],
      "execution_count": 30,
      "outputs": [
        {
          "output_type": "stream",
          "text": [
            "tensor([[0., 0., 0.],\n",
            "        [0., 0., 0.]])\n"
          ],
          "name": "stdout"
        }
      ]
    },
    {
      "cell_type": "markdown",
      "metadata": {
        "id": "eHOiuTxhGQlL"
      },
      "source": [
        "**In-place Operation (덮어쓰기 연산)**"
      ]
    },
    {
      "cell_type": "code",
      "metadata": {
        "id": "nIh8J8_qGSsn"
      },
      "source": [
        "x = torch.FloatTensor([[1, 2], [3, 4]])"
      ],
      "execution_count": 31,
      "outputs": []
    },
    {
      "cell_type": "code",
      "metadata": {
        "colab": {
          "base_uri": "https://localhost:8080/"
        },
        "id": "DHrXRfmpGXNJ",
        "outputId": "ab07a893-0f1b-470b-ef6a-a50e396e374f"
      },
      "source": [
        "print(x.mul(2.)) # 곱하기 2를 수행한 결과를 출력\r\n",
        "print(x) # 기존의 값 출력"
      ],
      "execution_count": 32,
      "outputs": [
        {
          "output_type": "stream",
          "text": [
            "tensor([[2., 4.],\n",
            "        [6., 8.]])\n",
            "tensor([[1., 2.],\n",
            "        [3., 4.]])\n"
          ],
          "name": "stdout"
        }
      ]
    },
    {
      "cell_type": "markdown",
      "metadata": {
        "id": "rlvGucZ5Glfl"
      },
      "source": [
        "첫번째 출력은 곱하기 2가 수행된 결과를 보여주고, 두번째 출력은 기존의 값이 그대로 출력된 것을 확인할 수 있습니다. 곱하기 2를 수행했지만 이를 x에다가 다시 저장하지 않았으니, 곱하기 연산을 하더라도 기존의 값 x는 변하지 않는 것이 당연합니다.\r\n",
        "\r\n",
        "그런데 연산 뒤에 _를 붙이면 기존의 값을 덮어쓰기 합니다."
      ]
    },
    {
      "cell_type": "code",
      "metadata": {
        "colab": {
          "base_uri": "https://localhost:8080/"
        },
        "id": "3tdhyR7BGtKh",
        "outputId": "7da9505a-6158-4501-b6a3-4ea0da3ec2e9"
      },
      "source": [
        "print(x.mul_(2.))  # 곱하기 2를 수행한 결과를 변수 x에 값을 저장하면서 결과를 출력\r\n",
        "print(x) # 기존의 값 출력"
      ],
      "execution_count": 33,
      "outputs": [
        {
          "output_type": "stream",
          "text": [
            "tensor([[2., 4.],\n",
            "        [6., 8.]])\n",
            "tensor([[2., 4.],\n",
            "        [6., 8.]])\n"
          ],
          "name": "stdout"
        }
      ]
    }
  ]
}