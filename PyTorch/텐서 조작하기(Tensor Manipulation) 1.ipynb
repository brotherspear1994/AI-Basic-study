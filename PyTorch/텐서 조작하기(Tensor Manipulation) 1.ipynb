{
  "nbformat": 4,
  "nbformat_minor": 0,
  "metadata": {
    "colab": {
      "name": "Untitled0.ipynb",
      "provenance": [],
      "collapsed_sections": []
    },
    "kernelspec": {
      "name": "python3",
      "display_name": "Python 3"
    }
  },
  "cells": [
    {
      "cell_type": "markdown",
      "metadata": {
        "id": "43ynVK8gHgCU"
      },
      "source": [
        "Numpy로 1차원 벡터를 만들기"
      ]
    },
    {
      "cell_type": "code",
      "metadata": {
        "colab": {
          "base_uri": "https://localhost:8080/"
        },
        "id": "deRGwfCiHGlO",
        "outputId": "61a1b388-9c0a-4b96-9a63-9a9e2dc0c307"
      },
      "source": [
        "import numpy as np\r\n",
        "t = np.array([0., 1., 2., 3., 4., 5., 6.])\r\n",
        "# 파이썬으로 설명하면 List를 생성해서 np.array로 1차원 array로 변환함.\r\n",
        "print(t)"
      ],
      "execution_count": 2,
      "outputs": [
        {
          "output_type": "stream",
          "text": [
            "[0. 1. 2. 3. 4. 5. 6.]\n"
          ],
          "name": "stdout"
        }
      ]
    },
    {
      "cell_type": "markdown",
      "metadata": {
        "id": "FW9I5oKdHncU"
      },
      "source": [
        "1차원 벡터의 차원과 크기를 출력"
      ]
    },
    {
      "cell_type": "code",
      "metadata": {
        "colab": {
          "base_uri": "https://localhost:8080/"
        },
        "id": "hQSlnuk4HwF6",
        "outputId": "ffbcf9b8-c010-44d0-d6b4-01e15bf32c64"
      },
      "source": [
        "print('Rank of t: ', t.ndim)\r\n",
        "print('Shape of t: ', t.shape)"
      ],
      "execution_count": 4,
      "outputs": [
        {
          "output_type": "stream",
          "text": [
            "Rank of t:  1\n",
            "Shape of t:  (7,)\n"
          ],
          "name": "stdout"
        }
      ]
    },
    {
      "cell_type": "markdown",
      "metadata": {
        "id": "AkdoVKpkSUai"
      },
      "source": [
        "Numpy 기초 이해하기"
      ]
    },
    {
      "cell_type": "code",
      "metadata": {
        "colab": {
          "base_uri": "https://localhost:8080/"
        },
        "id": "w708WCJiSWtf",
        "outputId": "a1a8e121-8c48-45c0-8f4a-64a65e89da64"
      },
      "source": [
        "print('t[0] t[1] t[-1] = ', t[0], t[1], t[-1]) # 인덱스를 통한 원소 접근"
      ],
      "execution_count": 5,
      "outputs": [
        {
          "output_type": "stream",
          "text": [
            "t[0] t[1] t[-1] =  0.0 1.0 6.0\n"
          ],
          "name": "stdout"
        }
      ]
    },
    {
      "cell_type": "code",
      "metadata": {
        "colab": {
          "base_uri": "https://localhost:8080/"
        },
        "id": "mrCNOJwoSsGA",
        "outputId": "d7b10b39-66f5-4afd-a4ed-2b85cb512c64"
      },
      "source": [
        "print('t[2:5] t[4:-1]  = ', t[2:5], t[4:-1]) # [시작 번호 : 끝 번호]로 범위 지정을 통해 가져온다."
      ],
      "execution_count": 6,
      "outputs": [
        {
          "output_type": "stream",
          "text": [
            "t[2:5] t[4:-1]  =  [2. 3. 4.] [4. 5.]\n"
          ],
          "name": "stdout"
        }
      ]
    },
    {
      "cell_type": "code",
      "metadata": {
        "colab": {
          "base_uri": "https://localhost:8080/"
        },
        "id": "rEIaNfhgS2kz",
        "outputId": "78d54eb9-72b9-4287-9abb-98828a57b710"
      },
      "source": [
        "print('t[:2] t[3:]     = ', t[:2], t[3:]) # 시작 번호를 생략한 경우와 끝 번호를 생략한 경우"
      ],
      "execution_count": 7,
      "outputs": [
        {
          "output_type": "stream",
          "text": [
            "t[:2] t[3:]     =  [0. 1.] [3. 4. 5. 6.]\n"
          ],
          "name": "stdout"
        }
      ]
    },
    {
      "cell_type": "markdown",
      "metadata": {
        "id": "SyPs7MxlTN1m"
      },
      "source": [
        "2D with Numpy"
      ]
    },
    {
      "cell_type": "code",
      "metadata": {
        "colab": {
          "base_uri": "https://localhost:8080/"
        },
        "id": "nci3MD4CTQMT",
        "outputId": "25b0c14f-5aaf-47e1-ba66-5ce440b01324"
      },
      "source": [
        "t = np.array([[1.,2.,3.],[4.,5.,6.],[7.,8.,9.],[10.,11.,12.]])\r\n",
        "print(t)"
      ],
      "execution_count": 8,
      "outputs": [
        {
          "output_type": "stream",
          "text": [
            "[[ 1.  2.  3.]\n",
            " [ 4.  5.  6.]\n",
            " [ 7.  8.  9.]\n",
            " [10. 11. 12.]]\n"
          ],
          "name": "stdout"
        }
      ]
    },
    {
      "cell_type": "code",
      "metadata": {
        "colab": {
          "base_uri": "https://localhost:8080/"
        },
        "id": "9dGuxEodTj4y",
        "outputId": "8afcfebf-bd4a-4fab-cca7-a0316a985663"
      },
      "source": [
        "print('Rank  of t: ', t.ndim)\r\n",
        "print('Shape of t: ', t.shape)"
      ],
      "execution_count": 9,
      "outputs": [
        {
          "output_type": "stream",
          "text": [
            "Rank  of t:  2\n",
            "Shape of t:  (4, 3)\n"
          ],
          "name": "stdout"
        }
      ]
    },
    {
      "cell_type": "markdown",
      "metadata": {
        "id": "MS8zWOeLV3Er"
      },
      "source": [
        "파이토치 텐서 선언하기(PyTorch Tensor Allocation)"
      ]
    },
    {
      "cell_type": "code",
      "metadata": {
        "id": "HNpoSG5yV47-"
      },
      "source": [
        "import torch"
      ],
      "execution_count": 10,
      "outputs": []
    },
    {
      "cell_type": "markdown",
      "metadata": {
        "id": "bA8JKnZtWN-2"
      },
      "source": [
        "1D with PyTorch"
      ]
    },
    {
      "cell_type": "code",
      "metadata": {
        "colab": {
          "base_uri": "https://localhost:8080/"
        },
        "id": "b9goDTJeWOfc",
        "outputId": "eceb914b-94ac-4f31-de62-98a6be0b36a9"
      },
      "source": [
        "t = torch.FloatTensor([0., 1., 2., 3., 4., 5., 6.])\r\n",
        "print(t)"
      ],
      "execution_count": 11,
      "outputs": [
        {
          "output_type": "stream",
          "text": [
            "tensor([0., 1., 2., 3., 4., 5., 6.])\n"
          ],
          "name": "stdout"
        }
      ]
    },
    {
      "cell_type": "markdown",
      "metadata": {
        "id": "DEhQR6ReWjtZ"
      },
      "source": [
        "dim()을 사용하면 현재 텐서의 차원을 보여줍니다. shape나 size()를 사용하면 크기를 확인할 수 있습니다."
      ]
    },
    {
      "cell_type": "code",
      "metadata": {
        "colab": {
          "base_uri": "https://localhost:8080/"
        },
        "id": "FT99l_BvWjUr",
        "outputId": "ea99240a-166a-4ebb-8b1e-cabbf43b8acb"
      },
      "source": [
        "print(t.dim())  # rank. 즉, 차원\r\n",
        "print(t.shape)  # shape # () 없는 것 주의\r\n",
        "print(t.size()) # shape"
      ],
      "execution_count": 13,
      "outputs": [
        {
          "output_type": "stream",
          "text": [
            "1\n",
            "torch.Size([7])\n",
            "torch.Size([7])\n"
          ],
          "name": "stdout"
        }
      ]
    },
    {
      "cell_type": "markdown",
      "metadata": {
        "id": "MjxMVX4iWobo"
      },
      "source": [
        "현재 1차원 텐서이며, 원소는 7개입니다. 인덱스로 접근하는 것과 슬라이싱을 해봅시다."
      ]
    },
    {
      "cell_type": "code",
      "metadata": {
        "colab": {
          "base_uri": "https://localhost:8080/"
        },
        "id": "POJfQb6PW2Da",
        "outputId": "9516a7d5-d95e-4367-dfb7-5705b883faaa"
      },
      "source": [
        "print(t[0], t[1], t[-1])  # 인덱스로 접근\r\n",
        "print(t[2:5], t[4:-1])    # 슬라이싱\r\n",
        "print(t[:2], t[3:])       # 슬라이싱"
      ],
      "execution_count": 14,
      "outputs": [
        {
          "output_type": "stream",
          "text": [
            "tensor(0.) tensor(1.) tensor(6.)\n",
            "tensor([2., 3., 4.]) tensor([4., 5.])\n",
            "tensor([0., 1.]) tensor([3., 4., 5., 6.])\n"
          ],
          "name": "stdout"
        }
      ]
    },
    {
      "cell_type": "markdown",
      "metadata": {
        "id": "X3cHAYOLXFCP"
      },
      "source": [
        "2D with PyTorch"
      ]
    },
    {
      "cell_type": "code",
      "metadata": {
        "colab": {
          "base_uri": "https://localhost:8080/"
        },
        "id": "bPaTUHtGXGNA",
        "outputId": "edbf660f-ac24-4f4f-a014-b7f7162e2597"
      },
      "source": [
        "t = torch.FloatTensor([[1., 2., 3.],\r\n",
        "                       [4., 5., 6.],\r\n",
        "                       [7., 8., 9.],\r\n",
        "                       [10., 11., 12.]\r\n",
        "                      ])\r\n",
        "print(t)"
      ],
      "execution_count": 15,
      "outputs": [
        {
          "output_type": "stream",
          "text": [
            "tensor([[ 1.,  2.,  3.],\n",
            "        [ 4.,  5.,  6.],\n",
            "        [ 7.,  8.,  9.],\n",
            "        [10., 11., 12.]])\n"
          ],
          "name": "stdout"
        }
      ]
    },
    {
      "cell_type": "markdown",
      "metadata": {
        "id": "3WSeID5dXMqz"
      },
      "source": [
        "dim()을 사용하면 현재 텐서의 차원을 보여줍니다. size()를 사용하면 크기를 확인할 수 있습니다."
      ]
    },
    {
      "cell_type": "code",
      "metadata": {
        "colab": {
          "base_uri": "https://localhost:8080/"
        },
        "id": "WIyeoxRmXOu_",
        "outputId": "9db951fa-c9b6-48b2-b147-1ff4025d542f"
      },
      "source": [
        "print(t.dim())  # rank. 즉, 차원\r\n",
        "print(t.size()) # shape"
      ],
      "execution_count": 16,
      "outputs": [
        {
          "output_type": "stream",
          "text": [
            "2\n",
            "torch.Size([4, 3])\n"
          ],
          "name": "stdout"
        }
      ]
    },
    {
      "cell_type": "markdown",
      "metadata": {
        "id": "UtIHrKtEXf3E"
      },
      "source": [
        "현재 텐서의 차원은 2차원이며, (4, 3)의 크기를 가집니다. 슬라이싱을 해봅시다"
      ]
    },
    {
      "cell_type": "code",
      "metadata": {
        "colab": {
          "base_uri": "https://localhost:8080/"
        },
        "id": "eHLCuWZFXmbZ",
        "outputId": "1c0f9861-1f49-44bf-bc58-aaf213f42ad8"
      },
      "source": [
        "print(t[:, 1]) # 첫번째 차원을 전체 선택한 상황에서 두번째 차원의 첫번째 것만 가져온다.\r\n",
        "print(t[:, 1].size()) # ↑ 위의 경우의 크기\r\n",
        "print(t[:, 1].dim()) # 차원 크기"
      ],
      "execution_count": 18,
      "outputs": [
        {
          "output_type": "stream",
          "text": [
            "tensor([ 2.,  5.,  8., 11.])\n",
            "torch.Size([4])\n",
            "1\n"
          ],
          "name": "stdout"
        }
      ]
    },
    {
      "cell_type": "markdown",
      "metadata": {
        "id": "XCgQoCBDYyjQ"
      },
      "source": [
        "첫번째 차원을 전체 선택한 상황에서 두번째 차원에서는 맨 마지막에서 첫번째를 제외하고 다 가져오는 경우"
      ]
    },
    {
      "cell_type": "code",
      "metadata": {
        "colab": {
          "base_uri": "https://localhost:8080/"
        },
        "id": "puMKaOecY2yE",
        "outputId": "f44affa2-ecca-4f67-cf73-7804237c6c8e"
      },
      "source": [
        "print(t[:, :-1]) # 첫번째 차원을 전체 선택한 상황에서 두번째 차원에서는 맨 마지막에서 첫번째를 제외하고 다 가져온다."
      ],
      "execution_count": 19,
      "outputs": [
        {
          "output_type": "stream",
          "text": [
            "tensor([[ 1.,  2.],\n",
            "        [ 4.,  5.],\n",
            "        [ 7.,  8.],\n",
            "        [10., 11.]])\n"
          ],
          "name": "stdout"
        }
      ]
    },
    {
      "cell_type": "markdown",
      "metadata": {
        "id": "HlnLm3DSZtam"
      },
      "source": [
        "두 행렬 A, B가 있다고 해봅시다. 행렬의 덧셈과 뺄셈에 대해 알고계신다면, 이 덧셈과 뺄셈을 할 때에는 두 행렬 A, B의 크기가 같아야한다는 것을 알고계실겁니다. 그리고 두 행렬이 곱셈을 할 때에는 A의 마지막 차원과 B의 첫번째 차원이 일치해야합니다.\r\n",
        "\r\n",
        "물론, 이런 규칙들이 있지만 딥 러닝을 하게되면 불가피하게 크기가 다른 행렬 또는 텐서에 대해서 사칙 연산을 수행할 필요가 있는 경우가 생깁니다. 이를 위해 파이토치에서는 자동으로 크기를 맞춰서 연산을 수행하게 만드는 브로드캐스팅이라는 기능을 제공합니다.\r\n",
        "\r\n",
        "우선 같은 크기일 때 연산을 하는 경우를 보겠습니다."
      ]
    },
    {
      "cell_type": "code",
      "metadata": {
        "colab": {
          "base_uri": "https://localhost:8080/"
        },
        "id": "tpVuNiBcZx3R",
        "outputId": "ed6008de-9cad-40dc-c699-345b427d8c4c"
      },
      "source": [
        "m1 = torch.FloatTensor([[3, 3]])\r\n",
        "m2 = torch.FloatTensor([[2, 2]])\r\n",
        "print(m1 + m2)"
      ],
      "execution_count": 20,
      "outputs": [
        {
          "output_type": "stream",
          "text": [
            "tensor([[5., 5.]])\n"
          ],
          "name": "stdout"
        }
      ]
    },
    {
      "cell_type": "markdown",
      "metadata": {
        "id": "rlgukftHawVF"
      },
      "source": [
        "원래 m1의 크기는 (1, 2)이며 m2의 크기는 (1,)입니다. 그런데 파이토치는 m2의 크기를 (1, 2)로 변경하여 연산을 수행합니다. 이번에는 벡터 간 연산에서 브로드캐스팅이 적용되는 경우를 보겠습니다"
      ]
    },
    {
      "cell_type": "code",
      "metadata": {
        "colab": {
          "base_uri": "https://localhost:8080/"
        },
        "id": "Dr5HK-fLas-5",
        "outputId": "a21b09f9-29fe-4ade-d389-1d03b14a5dc2"
      },
      "source": [
        "# Vector + scalar\r\n",
        "m1 = torch.FloatTensor([[1, 2]])\r\n",
        "m2 = torch.FloatTensor([3]) # [3] -> [3, 3]\r\n",
        "print(m1 + m2)"
      ],
      "execution_count": 22,
      "outputs": [
        {
          "output_type": "stream",
          "text": [
            "tensor([[4., 5.]])\n"
          ],
          "name": "stdout"
        }
      ]
    },
    {
      "cell_type": "markdown",
      "metadata": {
        "id": "L5wszkxxbEmo"
      },
      "source": [
        "m1의 크기는 (1, 2) m2의 크기는 (2, 1)였습니다. 이 두 벡터는 원래 수학적으로는 덧셈을 수행할 수 없습니다. 그러나 파이토치는 두 벡터의 크기를 (2, 2)로 변경하여 덧셈을 수행합니다."
      ]
    },
    {
      "cell_type": "code",
      "metadata": {
        "colab": {
          "base_uri": "https://localhost:8080/"
        },
        "id": "Sigdno9ba9ls",
        "outputId": "4b7a1bff-2025-4ef4-dde7-38fd2fd1cecc"
      },
      "source": [
        "# 2 x 1 Vector + 1 x 2 Vector\r\n",
        "m1 = torch.FloatTensor([[1, 2]])\r\n",
        "m2 = torch.FloatTensor([[3], [4]])\r\n",
        "print(m1 + m2)"
      ],
      "execution_count": 23,
      "outputs": [
        {
          "output_type": "stream",
          "text": [
            "tensor([[4., 5.],\n",
            "        [5., 6.]])\n"
          ],
          "name": "stdout"
        }
      ]
    },
    {
      "cell_type": "markdown",
      "metadata": {
        "id": "Ep2fhcFjbYOb"
      },
      "source": [
        "자주 사용되는 기능들"
      ]
    },
    {
      "cell_type": "markdown",
      "metadata": {
        "id": "KzO6873mba1d"
      },
      "source": [
        "행렬 곱셈과 곱셈의 차이(Matrix Multiplication Vs. Multiplication)"
      ]
    },
    {
      "cell_type": "markdown",
      "metadata": {
        "id": "8ABVrfq_cmxO"
      },
      "source": [
        "행렬로 곱셈을 하는 방법은 크게 두 가지가 있습니다. 바로 행렬 곱셈(.matmul)과 원소 별 곱셈(.mul)입니다.\r\n",
        "파이토치 텐서의 행렬 곱셈을 보겠습니다. 이는 matmul()을 통해 수행합니다."
      ]
    },
    {
      "cell_type": "code",
      "metadata": {
        "colab": {
          "base_uri": "https://localhost:8080/"
        },
        "id": "mEuHAZi-baHu",
        "outputId": "fd18bdac-8a4d-4d88-f07f-ebc5dcadb2e3"
      },
      "source": [
        "m1 = torch.FloatTensor([[1, 2], [3, 4]])\r\n",
        "m2 = torch.FloatTensor([[1], [2]])\r\n",
        "print('Shape of Matrix 1: ', m1.shape) # 2 x 2\r\n",
        "print('Shape of Matrix 2: ', m2.shape) # 2 x 1\r\n",
        "print(m1.matmul(m2)) # 2 x 1"
      ],
      "execution_count": 26,
      "outputs": [
        {
          "output_type": "stream",
          "text": [
            "Shape of Matrix 1:  torch.Size([2, 2])\n",
            "Shape of Matrix 2:  torch.Size([2, 1])\n",
            "tensor([[ 5.],\n",
            "        [11.]])\n"
          ],
          "name": "stdout"
        }
      ]
    },
    {
      "cell_type": "markdown",
      "metadata": {
        "id": "R618vmZodTCk"
      },
      "source": [
        "위의 결과는 2 x 2 행렬과 2 x 1 행렬(벡터)의 행렬 곱셈의 결과를 보여줍니다.\r\n",
        "\r\n",
        "행렬 곱셈이 아니라 element-wise 곱셈이라는 것이 존재합니다. 이는 동일한 크기의 행렬이 동일한 위치에 있는 원소끼리 곱하는 것을 말합니다. 아래는 서로 다른 크기의 행렬이 브로드캐스팅이 된 후에 element-wise 곱셈이 수행되는 것을 보여줍니다. 이는 * 또는 mul()을 통해 수행합니다."
      ]
    },
    {
      "cell_type": "code",
      "metadata": {
        "colab": {
          "base_uri": "https://localhost:8080/"
        },
        "id": "17qidEtCd5Oa",
        "outputId": "47750214-9b58-446e-db4d-35df3aee8ed4"
      },
      "source": [
        "m1 = torch.FloatTensor([[1, 2], [3, 4]])\r\n",
        "m2 = torch.FloatTensor([[1], [2]])\r\n",
        "print('Shape of Matrix 1: ', m1.shape) # 2 x 2\r\n",
        "print('Shape of Matrix 2: ', m2.shape) # 2 x 1\r\n",
        "print(m1 * m2) # 2 x 2\r\n",
        "print(m1.mul(m2))"
      ],
      "execution_count": 27,
      "outputs": [
        {
          "output_type": "stream",
          "text": [
            "Shape of Matrix 1:  torch.Size([2, 2])\n",
            "Shape of Matrix 2:  torch.Size([2, 1])\n",
            "tensor([[1., 2.],\n",
            "        [6., 8.]])\n",
            "tensor([[1., 2.],\n",
            "        [6., 8.]])\n"
          ],
          "name": "stdout"
        }
      ]
    },
    {
      "cell_type": "markdown",
      "metadata": {
        "id": "PLY2gxGddauv"
      },
      "source": [
        "평균(Mean)"
      ]
    },
    {
      "cell_type": "code",
      "metadata": {
        "colab": {
          "base_uri": "https://localhost:8080/"
        },
        "id": "WX0m_OxGdZl_",
        "outputId": "22262c00-791e-47aa-ffe3-af19961c3a8e"
      },
      "source": [
        "t = torch.FloatTensor([1, 2])\r\n",
        "print(t.mean())"
      ],
      "execution_count": 28,
      "outputs": [
        {
          "output_type": "stream",
          "text": [
            "tensor(1.5000)\n"
          ],
          "name": "stdout"
        }
      ]
    },
    {
      "cell_type": "code",
      "metadata": {
        "colab": {
          "base_uri": "https://localhost:8080/"
        },
        "id": "ZjlpRFZBeSSR",
        "outputId": "bf6ece92-25f7-4684-e727-96ce32567d6f"
      },
      "source": [
        "t = torch.FloatTensor([[1, 2], [3, 4]])\r\n",
        "print(t)"
      ],
      "execution_count": 29,
      "outputs": [
        {
          "output_type": "stream",
          "text": [
            "tensor([[1., 2.],\n",
            "        [3., 4.]])\n"
          ],
          "name": "stdout"
        }
      ]
    },
    {
      "cell_type": "code",
      "metadata": {
        "colab": {
          "base_uri": "https://localhost:8080/"
        },
        "id": "uhUYtN5VeTbg",
        "outputId": "95d1dcb8-5194-4ef6-bb8c-cba9dadd88ca"
      },
      "source": [
        "print(t.mean())\r\n"
      ],
      "execution_count": 31,
      "outputs": [
        {
          "output_type": "stream",
          "text": [
            "tensor(2.5000)\n"
          ],
          "name": "stdout"
        }
      ]
    },
    {
      "cell_type": "code",
      "metadata": {
        "colab": {
          "base_uri": "https://localhost:8080/"
        },
        "id": "c_XJHl5deioj",
        "outputId": "273ca878-0b97-4639-ec82-d20bff6ae8f1"
      },
      "source": [
        "print(t.mean(dim=0))"
      ],
      "execution_count": 32,
      "outputs": [
        {
          "output_type": "stream",
          "text": [
            "tensor([2., 3.])\n"
          ],
          "name": "stdout"
        }
      ]
    },
    {
      "cell_type": "markdown",
      "metadata": {
        "id": "IHfUjkMPemp_"
      },
      "source": [
        "dim=0이라는 것은 첫번째 차원을 의미합니다. 행렬에서 첫번째 차원은 '행'을 의미합니다. 그리고 인자로 dim을 준다면 해당 차원을 제거한다는 의미가 됩니다. 다시 말해 행렬에서 '열'만을 남기겠다는 의미가 됩니다. 기존 행렬의 크기는 (2, 2)였지만 이를 수행하면 열의 차원만 보존되면서 (1, 2)가 됩니다. 이는 (2,)와 같으며 벡터를 입니다. 열의 차원을 보존하면서 평균을 구하면 아래와 같이 연산합니다.\r\n",
        "\r\n",
        "실제 연산 과정\r\n",
        "\r\n",
        "t.mean(dim=0)은 입력에서 첫번째 차원을 제거한다.\r\n",
        "\r\n",
        "[[1., 2.],\r\n",
        " [3., 4.]]\r\n",
        "\r\n",
        "1과 3의 평균을 구하고, 2와 4의 평균을 구한다.\r\n",
        "결과 ==> [2., 3.]"
      ]
    },
    {
      "cell_type": "code",
      "metadata": {
        "colab": {
          "base_uri": "https://localhost:8080/"
        },
        "id": "jCuJy6tQeqdT",
        "outputId": "efd00dae-67b6-40d5-8e2f-708a44fc2c35"
      },
      "source": [
        "print(t.mean(dim=1))"
      ],
      "execution_count": 33,
      "outputs": [
        {
          "output_type": "stream",
          "text": [
            "tensor([1.5000, 3.5000])\n"
          ],
          "name": "stdout"
        }
      ]
    },
    {
      "cell_type": "markdown",
      "metadata": {
        "id": "1cdkVQGzfWTP"
      },
      "source": [
        "열의 차원이 제거되어야 하므로 (2, 2)의 크기에서 (2, 1)의 크기가 됩니다. 이번에는 1과 3의 평균을 구하고 3과 4의 평균을 구하게 됩니다. 그렇다면 결과는 아래와 같습니다.\r\n",
        "\r\n",
        " 실제 연산 결과는 (2 × 1)\r\n",
        "[1. 5]\r\n",
        "[3. 5]\r\n",
        "\r\n",
        "---\r\n",
        "하지만 (2 × 1)은 결국 1차원이므로 (1 × 2)와 같이 표현되면서 위와 같이 [1.5, 3.5]로 출력됩니다.\r\n"
      ]
    },
    {
      "cell_type": "code",
      "metadata": {
        "colab": {
          "base_uri": "https://localhost:8080/"
        },
        "id": "Ziv-3SVvfV4h",
        "outputId": "4e451651-e992-4795-a021-1df567dce4e4"
      },
      "source": [
        "print(t.mean(dim=-1))"
      ],
      "execution_count": 34,
      "outputs": [
        {
          "output_type": "stream",
          "text": [
            "tensor([1.5000, 3.5000])\n"
          ],
          "name": "stdout"
        }
      ]
    },
    {
      "cell_type": "markdown",
      "metadata": {
        "id": "QRvVm_4Sfzuo"
      },
      "source": [
        "덧셈(Sum)\r\n",
        "\r\n",
        "덧셈(Sum)은 평균(Mean)과 연산 방법이나 인자가 의미하는 바는 정확히 동일합니다. 다만, 평균이 아니라 덧셈을 할 뿐입니다."
      ]
    },
    {
      "cell_type": "code",
      "metadata": {
        "colab": {
          "base_uri": "https://localhost:8080/"
        },
        "id": "NRgScVBbfylK",
        "outputId": "0a7e08da-259d-417f-c414-f40279fd2995"
      },
      "source": [
        "t = torch.FloatTensor([[1, 2], [3, 4]])\r\n",
        "print(t)"
      ],
      "execution_count": 35,
      "outputs": [
        {
          "output_type": "stream",
          "text": [
            "tensor([[1., 2.],\n",
            "        [3., 4.]])\n"
          ],
          "name": "stdout"
        }
      ]
    },
    {
      "cell_type": "code",
      "metadata": {
        "colab": {
          "base_uri": "https://localhost:8080/"
        },
        "id": "hCwdETesgBPB",
        "outputId": "4d1119d4-10b4-4af7-8f24-3b93ea7db1b4"
      },
      "source": [
        "print(t.sum()) # 단순히 원소 전체의 덧셈을 수행\r\n",
        "print(t.sum(dim=0)) # 행을 제거\r\n",
        "print(t.sum(dim=1)) # 열을 제거\r\n",
        "print(t.sum(dim=-1)) # 열을 제거"
      ],
      "execution_count": 36,
      "outputs": [
        {
          "output_type": "stream",
          "text": [
            "tensor(10.)\n",
            "tensor([4., 6.])\n",
            "tensor([3., 7.])\n",
            "tensor([3., 7.])\n"
          ],
          "name": "stdout"
        }
      ]
    },
    {
      "cell_type": "markdown",
      "metadata": {
        "id": "bJ0bq-3rgD3b"
      },
      "source": [
        "최대(Max)와 아그맥스(ArgMax)"
      ]
    },
    {
      "cell_type": "markdown",
      "metadata": {
        "id": "MUvAN5I-nx1K"
      },
      "source": [
        "최대(Max)는 원소의 최대값을 리턴하고, 아그맥스(ArgMax)는 최대값을 가진 인덱스를 리턴합니다."
      ]
    },
    {
      "cell_type": "code",
      "metadata": {
        "colab": {
          "base_uri": "https://localhost:8080/"
        },
        "id": "S3Sv_f_6nMds",
        "outputId": "18b05892-ffc5-4644-af28-b47b3cdf6d8b"
      },
      "source": [
        "t = torch.FloatTensor([[1, 2], [3, 4]])\r\n",
        "print(t)"
      ],
      "execution_count": 37,
      "outputs": [
        {
          "output_type": "stream",
          "text": [
            "tensor([[1., 2.],\n",
            "        [3., 4.]])\n"
          ],
          "name": "stdout"
        }
      ]
    },
    {
      "cell_type": "code",
      "metadata": {
        "colab": {
          "base_uri": "https://localhost:8080/"
        },
        "id": "tV0smjyOoPsB",
        "outputId": "c0c21e18-9c75-4adb-99c2-1f23430b77a1"
      },
      "source": [
        "print(t.max()) # Returns one value: max"
      ],
      "execution_count": 38,
      "outputs": [
        {
          "output_type": "stream",
          "text": [
            "tensor(4.)\n"
          ],
          "name": "stdout"
        }
      ]
    },
    {
      "cell_type": "code",
      "metadata": {
        "colab": {
          "base_uri": "https://localhost:8080/"
        },
        "id": "kuDQUFlDox3P",
        "outputId": "cc54feda-7475-424b-e400-a45284aeeb05"
      },
      "source": [
        "print(t.max(dim=0)) # Returns two values: max and argmax"
      ],
      "execution_count": 40,
      "outputs": [
        {
          "output_type": "stream",
          "text": [
            "torch.return_types.max(\n",
            "values=tensor([3., 4.]),\n",
            "indices=tensor([1, 1]))\n"
          ],
          "name": "stdout"
        }
      ]
    },
    {
      "cell_type": "markdown",
      "metadata": {
        "id": "po21Cq2Po2Ym"
      },
      "source": [
        "행의 차원을 제거한다는 의미이므로 (1, 2) 텐서를 만듭니다. 결과는 [3, 4]입니다.\r\n",
        "\r\n",
        "그런데 [1, 1]이라는 값도 함께 리턴되었습니다. max에 dim 인자를 주면 argmax도 함께 리턴하는 특징 때문입니다. 첫번째 열에서 3의 인덱스는 1이었습니다. 두번째 열에서 4의 인덱스는 1이었습니다. 그러므로 [1, 1]이 리턴됩니다. 어떤 의미인지는 아래 설명해봤습니다.\r\n",
        "\r\n",
        " [1, 1]가 무슨 의미인지 봅시다. 기존 행렬을 다시 상기해봅시다.\r\n",
        "[[1, 2],\r\n",
        " [3, 4]]\r\n",
        "첫번째 열에서 0번 인덱스는 1, 1번 인덱스는 3입니다.\r\n",
        "두번째 열에서 0번 인덱스는 2, 1번 인덱스는 4입니다.\r\n",
        "다시 말해 3과 4의 인덱스는 [1, 1]입니다.\r\n",
        "\r\n",
        "만약 두 개를 함께 리턴받는 것이 아니라 max 또는 argmax만 리턴받고 싶다면 다음과 같이 리턴값에도 인덱스를 부여하면 됩니다. 0번 인덱스를 사용하면 max 값만 받아올 수 있고, 1번 인덱스를 사용하면 argmax 값만 받아올 수 있습니다."
      ]
    },
    {
      "cell_type": "code",
      "metadata": {
        "colab": {
          "base_uri": "https://localhost:8080/"
        },
        "id": "SW1WYhYkpLRZ",
        "outputId": "49257d41-81d7-4d1d-8e58-ed6ceb8c9ad4"
      },
      "source": [
        "print('Max: ', t.max(dim=0)[0])\r\n",
        "print('Argmax: ', t.max(dim=0)[1])"
      ],
      "execution_count": 42,
      "outputs": [
        {
          "output_type": "stream",
          "text": [
            "Max:  tensor([3., 4.])\n",
            "Argmax:  tensor([1, 1])\n"
          ],
          "name": "stdout"
        }
      ]
    },
    {
      "cell_type": "markdown",
      "metadata": {
        "id": "mLc-UQm-pcp6"
      },
      "source": [
        "이번에는 dim=1로 인자를 주었을 때와 dim=-1로 인자를 주었을 때를 보겠습니다."
      ]
    },
    {
      "cell_type": "code",
      "metadata": {
        "colab": {
          "base_uri": "https://localhost:8080/"
        },
        "id": "hlYBZaJBpdVO",
        "outputId": "aeb844a3-e660-4f95-d5c4-fb1c0ef07992"
      },
      "source": [
        "print(t.max(dim=1))\r\n",
        "print(t.max(dim=-1))"
      ],
      "execution_count": 43,
      "outputs": [
        {
          "output_type": "stream",
          "text": [
            "torch.return_types.max(\n",
            "values=tensor([2., 4.]),\n",
            "indices=tensor([1, 1]))\n",
            "torch.return_types.max(\n",
            "values=tensor([2., 4.]),\n",
            "indices=tensor([1, 1]))\n"
          ],
          "name": "stdout"
        }
      ]
    }
  ]
}